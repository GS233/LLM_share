{
 "cells": [
  {
   "cell_type": "code",
   "execution_count": 1,
   "metadata": {},
   "outputs": [],
   "source": [
    "DEVICE = 'cuda:0'\n",
    "PATH = '../models/chatglm2/'"
   ]
  },
  {
   "cell_type": "code",
   "execution_count": 2,
   "metadata": {},
   "outputs": [],
   "source": [
    "import numpy as np\n",
    "import pandas as pd \n",
    "import torch\n",
    "from torch import nn \n",
    "from torch.utils.data import Dataset,DataLoader "
   ]
  },
  {
   "cell_type": "code",
   "execution_count": 3,
   "metadata": {},
   "outputs": [],
   "source": [
    "\n",
    "from argparse import Namespace\n",
    "cfg = Namespace()\n",
    "\n",
    "#dataset\n",
    "cfg.prompt_column = 'prompt'     # 数据集中包含提示文本的列的名称\n",
    "cfg.response_column = 'response' # 数据集中包含响应文本的列的名称\n",
    "cfg.history_column = None        # \n",
    "cfg.source_prefix = ''           # 添加到每个prompt开头的前缀引导语\n",
    "\n",
    "cfg.max_source_length = 192 # 提示文本长度\n",
    "cfg.max_target_length = 256 # 响应文本长度\n",
    "\n",
    "# model\n",
    "cfg.model_name_or_path = PATH # 远程'THUDM/chatglm-6b' \n",
    "cfg.quantization_bit = None   # 量化 \n",
    "\n",
    "\n",
    "#train\n",
    "cfg.epochs = 100 \n",
    "# cfg.lr = 5e-3\n",
    "cfg.lr = 1e-3\n",
    "cfg.batch_size = 1\n",
    "cfg.gradient_accumulation_steps = 16 #梯度累积"
   ]
  },
  {
   "cell_type": "markdown",
   "metadata": {},
   "source": [
    "- 读取模型"
   ]
  },
  {
   "cell_type": "code",
   "execution_count": 4,
   "metadata": {},
   "outputs": [
    {
     "name": "stderr",
     "output_type": "stream",
     "text": [
      "/opt/conda/envs/chatglm/lib/python3.10/site-packages/tqdm/auto.py:21: TqdmWarning: IProgress not found. Please update jupyter and ipywidgets. See https://ipywidgets.readthedocs.io/en/stable/user_install.html\n",
      "  from .autonotebook import tqdm as notebook_tqdm\n",
      "Loading checkpoint shards: 100%|██████████| 7/7 [00:10<00:00,  1.45s/it]\n"
     ]
    }
   ],
   "source": [
    "import transformers\n",
    "from transformers import  AutoModel,AutoTokenizer,AutoConfig,DataCollatorForSeq2Seq\n",
    "\n",
    "\n",
    "config = AutoConfig.from_pretrained(cfg.model_name_or_path, trust_remote_code=True)\n",
    "\n",
    "tokenizer = AutoTokenizer.from_pretrained(\n",
    "    cfg.model_name_or_path, trust_remote_code=True)\n",
    "\n",
    "model = AutoModel.from_pretrained(cfg.model_name_or_path,config=config,\n",
    "                                  trust_remote_code=True).cuda(DEVICE)"
   ]
  },
  {
   "cell_type": "markdown",
   "metadata": {},
   "source": [
    "- 构建chat函数\n",
    "- - 输入模型、文本、历史记录、温度\n",
    "- - 返回回答和历史"
   ]
  },
  {
   "cell_type": "code",
   "execution_count": 5,
   "metadata": {},
   "outputs": [],
   "source": [
    "def chat(model,text,his,temperature = 0.01):\n",
    "    ans,his = model.chat(tokenizer, text, history=his, temperature=temperature)\n",
    "    return ans,his"
   ]
  },
  {
   "cell_type": "markdown",
   "metadata": {},
   "source": [
    "- 做zero-shot的实验\n",
    "- - 通过不同的温度查看可能的结果"
   ]
  },
  {
   "cell_type": "code",
   "execution_count": 6,
   "metadata": {},
   "outputs": [
    {
     "name": "stdout",
     "output_type": "stream",
     "text": [
      "我知道这个故事，它讲述了林黛玉和垂杨柳的故事。\n",
      "\n",
      "据传，林黛玉是中国古典名著《红楼梦》中的主人公之一。她是一个文艺青年，有着出色的诗歌才华，但最终因为悲痛过度而去世。\n",
      "\n",
      "垂杨柳是古典名著《水浒传》中的一个角色，他是一个反抗压迫的英雄。据传，他曾经倒拔垂杨柳，以表达他对社会的不满和反抗。\n",
      "\n",
      "虽然这两个故事的主人公不同，但它们都包含了一个英雄倒拔的形象，这可能是因为在古典文学中，英雄们通常会以倒拔垂杨柳等形象来表达他们的勇气和决心。\n"
     ]
    }
   ],
   "source": [
    "ans,his_1 = chat(model,'你知道林黛玉倒拔垂杨柳吗？请详细说说这故事。',his=[],temperature = 0.95)\n",
    "print(ans)"
   ]
  },
  {
   "cell_type": "code",
   "execution_count": 7,
   "metadata": {},
   "outputs": [
    {
     "name": "stdout",
     "output_type": "stream",
     "text": [
      "我刚刚说错了，我并没有提到林黛玉和垂杨柳的故事。\n",
      "\n",
      "据我所知，林黛玉是《红楼梦》中的一个角色，而垂杨柳是《水浒传》中的一个角色。它们两个人之间并没有任何联系。\n",
      "\n",
      "《红楼梦》是一部描写清朝贵族生活的长篇小说，而《水浒传》是一部描写宋朝农民起义的长篇小说。虽然它们都是古典名著，但它们的故事和人物之间并没有任何联系。\n"
     ]
    }
   ],
   "source": [
    "ans,his_2 = chat(model,'你觉得你刚刚说的对吗？你知道林黛玉倒拔垂杨柳吗？',his=his_1,temperature = 0.95)\n",
    "print(ans)"
   ]
  },
  {
   "cell_type": "code",
   "execution_count": 8,
   "metadata": {},
   "outputs": [
    {
     "name": "stdout",
     "output_type": "stream",
     "text": [
      "据我所知，并没有确凿的证据证明林黛玉和垂杨柳之间有故事。\n",
      "\n",
      "在《红楼梦》中，林黛玉是贾宝玉的表妹，她是一个文艺青年，有着出色的诗歌才华。她最终因为悲痛过度而去世，但她的故事并没有提到垂杨柳。\n",
      "\n",
      "在《水浒传》中，垂杨柳是宋江的义弟，他是一个反抗压迫的英雄。据说，他曾经倒拔垂杨柳，但这个故事和林黛玉并没有任何联系。\n",
      "\n",
      "虽然《红楼梦》和《水浒传》都是古典名著，但它们的故事和人物之间并没有任何联系。\n"
     ]
    }
   ],
   "source": [
    "ans,his_3 = chat(model,'真的吗？真的有这故事吗？',his=his_2,temperature = 0.95)\n",
    "print(ans)"
   ]
  },
  {
   "cell_type": "code",
   "execution_count": 9,
   "metadata": {},
   "outputs": [
    {
     "name": "stdout",
     "output_type": "stream",
     "text": [
      "我很抱歉，我之前说错了。据我所知，林黛玉和垂杨柳之间并没有任何联系。\n",
      "\n",
      "在《红楼梦》中，林黛玉是贾宝玉的表妹，她是一个文艺青年，有着出色的诗歌才华。她最终因为悲痛过度而去世，但她的故事并没有提到垂杨柳。\n",
      "\n",
      "在《水浒传》中，垂杨柳是宋江的义弟，他是一个反抗压迫的英雄。据说，他曾经倒拔垂杨柳，但这个故事和林黛玉并没有任何联系。\n",
      "\n",
      "虽然《红楼梦》和《水浒传》都是古典名著，但它们的故事和人物之间并没有任何联系。\n"
     ]
    }
   ],
   "source": [
    "ans,his = chat(model,'根据我们的对话，你知道林黛玉倒拔垂杨柳吗？请详细说说这故事。',his=his_3,temperature = 0.95)\n",
    "print(ans)"
   ]
  },
  {
   "cell_type": "code",
   "execution_count": null,
   "metadata": {},
   "outputs": [],
   "source": []
  }
 ],
 "metadata": {
  "kernelspec": {
   "display_name": "chatglm",
   "language": "python",
   "name": "python3"
  },
  "language_info": {
   "codemirror_mode": {
    "name": "ipython",
    "version": 3
   },
   "file_extension": ".py",
   "mimetype": "text/x-python",
   "name": "python",
   "nbconvert_exporter": "python",
   "pygments_lexer": "ipython3",
   "version": "3.10.6"
  },
  "orig_nbformat": 4
 },
 "nbformat": 4,
 "nbformat_minor": 2
}
