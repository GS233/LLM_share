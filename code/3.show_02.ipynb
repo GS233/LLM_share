{
 "cells": [
  {
   "cell_type": "markdown",
   "metadata": {},
   "source": [
    "### 参数设置\n",
    "- 设备，路径等"
   ]
  },
  {
   "cell_type": "code",
   "execution_count": 1,
   "metadata": {},
   "outputs": [],
   "source": [
    "DEVICE = 'cuda:3'\n",
    "DATASET = 'eprstmt'\n",
    "model_path = '../models/chatglm2/'\n",
    "path_to_data = '/workspace/ChatGLM2_test/data/demo1'"
   ]
  },
  {
   "cell_type": "markdown",
   "metadata": {},
   "source": [
    "### 读取模型\n",
    "- 这里使用了全精度模型\n",
    "- 也可以使用int4,int8或半精度模型"
   ]
  },
  {
   "cell_type": "code",
   "execution_count": 2,
   "metadata": {},
   "outputs": [
    {
     "name": "stderr",
     "output_type": "stream",
     "text": [
      "/opt/conda/envs/chatglm/lib/python3.10/site-packages/tqdm/auto.py:21: TqdmWarning: IProgress not found. Please update jupyter and ipywidgets. See https://ipywidgets.readthedocs.io/en/stable/user_install.html\n",
      "  from .autonotebook import tqdm as notebook_tqdm\n",
      "Loading checkpoint shards: 100%|██████████| 7/7 [00:10<00:00,  1.44s/it]\n"
     ]
    }
   ],
   "source": [
    "import torch\n",
    "from transformers import  AutoModel,AutoTokenizer\n",
    "\n",
    "tokenizer = AutoTokenizer.from_pretrained(model_path, trust_remote_code=True)\n",
    "model = AutoModel.from_pretrained(model_path,trust_remote_code=True).bfloat16().cuda(DEVICE)"
   ]
  },
  {
   "cell_type": "markdown",
   "metadata": {},
   "source": [
    "### 准备模板\n",
    "- 告诉模型应该怎么给出正确的回复\n",
    "- 之前的回复、提示、模板会以对话的形式，存在his/history中"
   ]
  },
  {
   "cell_type": "code",
   "execution_count": 3,
   "metadata": {},
   "outputs": [
    {
     "name": "stdout",
     "output_type": "stream",
     "text": [
      "好评\n",
      "[(\"文本分类任务：将一段用户给外卖服务的评论进行分类，分成好评或者差评。\\n\\n下面是一些范例:\\n\\n这个产品的质量真的很出色！ ->  好评\\n使用起来非常流畅，没有任何问题。 ->  好评\\n它的功能非常强大，帮助我轻松完成任务。 ->  好评\\n超级友好和专业的客服团队。 ->  好评\\n物流速度快，让我很惊喜。 ->  好评\\n包装得很仔细，确保了商品的安全。 ->  好评\\n这个价格真是太划算了！ ->  好评\\n\\n购买后不久，产品就出现了严重的问题，无法正常使用。 ->  差评\\n当我试图联系客服解决问题时，根本无法得到任何帮助。 ->  差评\\n他们的营销策略是欺诈性的，不能信任。 ->  差评\\n尝试退货并获得退款变得非常繁琐和困难。 ->  差评\\n他们不愿意承认产品的问题，拒绝退款申请。 ->  差评\\n产品附带的保修几乎无法使用，因为服务中心离我太远。 ->  差评\\n即使在保修期内，他们也找各种理由拒绝提供服务。 ->  差评\\n\\n\\n请对下述评论进行分类。务必只使用'好评'或者'差评'回答，务必不做任何说明和解释。\\n\\n味道不错，下次还来 ->\\n\\n\", '好评')]\n"
     ]
    }
   ],
   "source": [
    "# define a basic prompt for express comment\n",
    "# prompt template with 4shots ahead\n",
    "\n",
    "prompt = \"\"\"文本分类任务：将一段用户给外卖服务的评论进行分类，分成好评或者差评。\n",
    "\n",
    "下面是一些范例:\n",
    "\n",
    "这个产品的质量真的很出色！ ->  好评\n",
    "使用起来非常流畅，没有任何问题。 ->  好评\n",
    "它的功能非常强大，帮助我轻松完成任务。 ->  好评\n",
    "超级友好和专业的客服团队。 ->  好评\n",
    "物流速度快，让我很惊喜。 ->  好评\n",
    "包装得很仔细，确保了商品的安全。 ->  好评\n",
    "这个价格真是太划算了！ ->  好评\n",
    "\n",
    "购买后不久，产品就出现了严重的问题，无法正常使用。 ->  差评\n",
    "当我试图联系客服解决问题时，根本无法得到任何帮助。 ->  差评\n",
    "他们的营销策略是欺诈性的，不能信任。 ->  差评\n",
    "尝试退货并获得退款变得非常繁琐和困难。 ->  差评\n",
    "他们不愿意承认产品的问题，拒绝退款申请。 ->  差评\n",
    "产品附带的保修几乎无法使用，因为服务中心离我太远。 ->  差评\n",
    "即使在保修期内，他们也找各种理由拒绝提供服务。 ->  差评\n",
    "\n",
    "\n",
    "请对下述评论进行分类。务必只使用'好评'或者'差评'回答，务必不做任何说明和解释。\n",
    "\n",
    "xxxxxx ->\n",
    "\n",
    "\"\"\"\n",
    "\n",
    "# 这是一个替换 xxxxx的函数\n",
    "def get_prompt(text):\n",
    "    return prompt.replace('xxxxxx',text)\n",
    "# try for once and test model workable\n",
    "response, his = model.chat(tokenizer, get_prompt('味道不错，下次还来'), history=[])\n",
    "print(response)\n",
    "print(his)"
   ]
  },
  {
   "cell_type": "code",
   "execution_count": 4,
   "metadata": {},
   "outputs": [
    {
     "name": "stdout",
     "output_type": "stream",
     "text": [
      "[(\"文本分类任务：将一段用户给外卖服务的评论进行分类，分成好评或者差评。\\n\\n下面是一些范例:\\n\\n这个产品的质量真的很出色！ ->  好评\\n使用起来非常流畅，没有任何问题。 ->  好评\\n它的功能非常强大，帮助我轻松完成任务。 ->  好评\\n超级友好和专业的客服团队。 ->  好评\\n物流速度快，让我很惊喜。 ->  好评\\n包装得很仔细，确保了商品的安全。 ->  好评\\n这个价格真是太划算了！ ->  好评\\n\\n购买后不久，产品就出现了严重的问题，无法正常使用。 ->  差评\\n当我试图联系客服解决问题时，根本无法得到任何帮助。 ->  差评\\n他们的营销策略是欺诈性的，不能信任。 ->  差评\\n尝试退货并获得退款变得非常繁琐和困难。 ->  差评\\n他们不愿意承认产品的问题，拒绝退款申请。 ->  差评\\n产品附带的保修几乎无法使用，因为服务中心离我太远。 ->  差评\\n即使在保修期内，他们也找各种理由拒绝提供服务。 ->  差评\\n\\n\\n请对下述评论进行分类。务必只使用'好评'或者'差评'回答，务必不做任何说明和解释。\\n\\n味道不错，下次还来 ->\\n\\n\", '好评'), ('保修过程令人沮丧，几乎没有解决问题的帮助。 -> ', '差评'), ('1这个产品简直就是一场灾难，存在严重的设计缺陷。  -> ', '差评'), ('这款产品的性能超出了我的预期。  -> ', '好评'), ('商品准时送达，包装完好无损。 -> ', '差评')]\n"
     ]
    }
   ],
   "source": [
    "# 加入一些新的样本提示\n",
    "his.append((\"保修过程令人沮丧，几乎没有解决问题的帮助。 -> \",\"差评\"))\n",
    "his.append((\"1这个产品简直就是一场灾难，存在严重的设计缺陷。  -> \",\"差评\"))\n",
    "his.append((\"这款产品的性能超出了我的预期。  -> \",\"好评\"))\n",
    "his.append((\"商品准时送达，包装完好无损。 -> \",\"差评\"))\n",
    "# 相当于使用prompt进行了9-shot提示\n",
    "print(his)"
   ]
  },
  {
   "cell_type": "markdown",
   "metadata": {},
   "source": [
    "# demo1 - 使用eprstmt小样本数据集\n",
    "- 任务：文本分类（情感分类/二分类）\n",
    "- 领域：电商评论"
   ]
  },
  {
   "cell_type": "markdown",
   "metadata": {},
   "source": [
    "## 数据读取\n",
    "#### 输入\n",
    "- 输入到数据集的绝对路径\n",
    "- 输入数据集名称\n",
    "- 输入选择的小样本数据集组（共有随机抽取的五组基本一样的数据集）\n",
    "#### 输出\n",
    "- 训练数据32条\n",
    "- 验证数据32条\n",
    "- 测试数据610条\n",
    "- 无标签数据N条\n",
    "#### 标签标识\n",
    "- 0 - 消极；1 - 积极"
   ]
  },
  {
   "cell_type": "code",
   "execution_count": 5,
   "metadata": {},
   "outputs": [
    {
     "name": "stdout",
     "output_type": "stream",
     "text": [
      "物流很快，早上下单，下午就到了。包装也很高档。就是耳机音质很差，煲了一百多小时，音质和同事的一百多元的耳机差不多，1580元买这耳机亏大了。 0\n",
      "标签分布:  Counter({1: 17, 0: 15})\n"
     ]
    }
   ],
   "source": [
    "from utils.read import *\n",
    "train,dev,test,_ = readFile(path_to_data,DATASET,0)\n",
    "print(train['text'][0],train['label'][0])\n",
    "print('标签分布: ',Counter(train['label']))"
   ]
  },
  {
   "cell_type": "code",
   "execution_count": 6,
   "metadata": {},
   "outputs": [
    {
     "data": {
      "text/plain": [
       "610"
      ]
     },
     "execution_count": 6,
     "metadata": {},
     "output_type": "execute_result"
    }
   ],
   "source": [
    "len(test['label'])"
   ]
  },
  {
   "cell_type": "markdown",
   "metadata": {},
   "source": [
    "### 把0,1处理为文本"
   ]
  },
  {
   "cell_type": "code",
   "execution_count": 7,
   "metadata": {},
   "outputs": [],
   "source": [
    "# 处理标签\n",
    "def label_handler(original_data):\n",
    "    for id,label in enumerate(original_data['label']):\n",
    "        if label == 0:\n",
    "            original_data['label'][id] = '差评'\n",
    "        else:\n",
    "            original_data['label'][id] = '好评'\n",
    "    return original_data\n",
    "train = label_handler(train)\n",
    "test  = label_handler(test)\n",
    "# print(train['label'])\n",
    "# print(label_handler(train)['label'])"
   ]
  },
  {
   "cell_type": "markdown",
   "metadata": {},
   "source": [
    "### 如果之前没有准备Prompt可以在这里打印一下"
   ]
  },
  {
   "cell_type": "code",
   "execution_count": 8,
   "metadata": {},
   "outputs": [],
   "source": [
    "# 准备一下Prompt\n",
    "# for i in range(10):\n",
    "#     print(train['text'][i+10] + ' -> ',train['label'][i+10])\n"
   ]
  },
  {
   "cell_type": "markdown",
   "metadata": {},
   "source": [
    "- 官方：将上下文整理成与推理时候一致，参照model.chat中的源码~\n",
    "- 实际上是 ./model/modeling_chatglm.py 中的build_stream_inputs这个函数"
   ]
  },
  {
   "cell_type": "code",
   "execution_count": 9,
   "metadata": {},
   "outputs": [
    {
     "name": "stdout",
     "output_type": "stream",
     "text": [
      "[Round 1]\n",
      "\n",
      "问：文本分类任务：将一段用户给外卖服务的评论进行分类，分成好评或者差评。\n",
      "\n",
      "下面是一些范例:\n",
      "\n",
      "这个产品的质量真的很出色！ ->  好评\n",
      "使用起来非常流畅，没有任何问题。 ->  好评\n",
      "它的功能非常强大，帮助我轻松完成任务。 ->  好评\n",
      "超级友好和专业的客服团队。 ->  好评\n",
      "物流速度快，让我很惊喜。 ->  好评\n",
      "包装得很仔细，确保了商品的安全。 ->  好评\n",
      "这个价格真是太划算了！ ->  好评\n",
      "\n",
      "购买后不久，产品就出现了严重的问题，无法正常使用。 ->  差评\n",
      "当我试图联系客服解决问题时，根本无法得到任何帮助。 ->  差评\n",
      "他们的营销策略是欺诈性的，不能信任。 ->  差评\n",
      "尝试退货并获得退款变得非常繁琐和困难。 ->  差评\n",
      "他们不愿意承认产品的问题，拒绝退款申请。 ->  差评\n",
      "产品附带的保修几乎无法使用，因为服务中心离我太远。 ->  差评\n",
      "即使在保修期内，他们也找各种理由拒绝提供服务。 ->  差评\n",
      "\n",
      "\n",
      "请对下述评论进行分类。务必只使用'好评'或者'差评'回答，务必不做任何说明和解释。\n",
      "\n",
      "味道不错，下次还来 ->\n",
      "\n",
      "\n",
      "\n",
      "答：好评\n",
      "\n",
      "[Round 2]\n",
      "\n",
      "问：保修过程令人沮丧，几乎没有解决问题的帮助。 -> \n",
      "\n",
      "答：差评\n",
      "\n",
      "[Round 3]\n",
      "\n",
      "问：1这个产品简直就是一场灾难，存在严重的设计缺陷。  -> \n",
      "\n",
      "答：差评\n",
      "\n",
      "[Round 4]\n",
      "\n",
      "问：这款产品的性能超出了我的预期。  -> \n",
      "\n",
      "答：好评\n",
      "\n",
      "[Round 5]\n",
      "\n",
      "问：商品准时送达，包装完好无损。 -> \n",
      "\n",
      "答：差评\n",
      "\n",
      "[Round 6]\n",
      "\n",
      "问：性能不太行 -> \n",
      "\n",
      "答：\n"
     ]
    }
   ],
   "source": [
    "# model.build_inputs\n",
    "def build_inputs(query, history):\n",
    "    prompt = \"\"\n",
    "    for i, (old_query, response) in enumerate(history):\n",
    "        prompt += \"[Round {}]\\n\\n问：{}\\n\\n答：{}\\n\\n\".format(i + 1, old_query, response)\n",
    "    prompt += \"[Round {}]\\n\\n问：{} -> \\n\\n答：\".format(len(history) + 1, query)\n",
    "    return prompt \n",
    "\n",
    "print(build_inputs('性能不太行',history=his)) \n",
    "# 这个history就是连续对话时的记录啦~\n",
    "# 也可以放一些提示在里面的，但是这里没放哦\n",
    "# 例子：\n",
    "# dftest['context'] = [build_inputs(x,history=his) for x in dftest['text']]\n",
    "# dftest['target'] = [x for x in dftest['tag']]\n",
    "# dftest = dftest[['context','target']]"
   ]
  },
  {
   "cell_type": "markdown",
   "metadata": {},
   "source": [
    "## 构建数据集"
   ]
  },
  {
   "cell_type": "code",
   "execution_count": 10,
   "metadata": {},
   "outputs": [],
   "source": [
    "from datasets import Dataset\n",
    "\n",
    "# 假设train['text']和train['label']是两个列表\n",
    "trainData = {'text': train['text'], 'label': train['label']}\n",
    "testData  = {'text': test['text'] , 'label': test ['label']}\n",
    "\n",
    "ds_train = Dataset.from_dict(trainData)\n",
    "ds_val  = Dataset.from_dict(testData)"
   ]
  },
  {
   "cell_type": "markdown",
   "metadata": {},
   "source": [
    "## token不会有人不懂吧？"
   ]
  },
  {
   "cell_type": "code",
   "execution_count": 11,
   "metadata": {},
   "outputs": [],
   "source": [
    "from tqdm import tqdm\n",
    "import transformers\n",
    "\n",
    "\n",
    "max_seq_length = 128   # 短文本数据集就用少一点就可以\n",
    "skip_over_length = True# 超过就不要了\n",
    "\n",
    "tokenizer = transformers.AutoTokenizer.from_pretrained(\n",
    "    model_path, trust_remote_code=True)\n",
    "\n",
    "config = transformers.AutoConfig.from_pretrained(\n",
    "    model_path, trust_remote_code=True)"
   ]
  },
  {
   "cell_type": "markdown",
   "metadata": {},
   "source": [
    "### 处理一下数据\n",
    "- 返回一个字典，包含以下三个键值对\n",
    "- input_ids、context_len、target_len"
   ]
  },
  {
   "cell_type": "code",
   "execution_count": 12,
   "metadata": {},
   "outputs": [],
   "source": [
    "# 定义一个名为preprocess的函数，它接受一个example参数\n",
    "def preprocess(example):\n",
    "    # 从example中获取\"context\"和\"target\"字段的内容\n",
    "    context = example[\"text\"]\n",
    "    target = example[\"label\"]\n",
    "    \n",
    "    # 使用tokenizer.encode将context文本编码为token IDs\n",
    "    context_ids = tokenizer.encode(\n",
    "        context, \n",
    "        max_length=max_seq_length,\n",
    "        truncation=True)\n",
    "    \n",
    "    # 使用tokenizer.encode将target文本编码为token IDs，同时不添加特殊token（如[CLS]和[SEP]）\n",
    "    target_ids = tokenizer.encode(\n",
    "        target,\n",
    "        max_length=max_seq_length,\n",
    "        truncation=True,\n",
    "        add_special_tokens=False)\n",
    "    \n",
    "    # 将context_ids、target_ids和eos_token_id（end-of-sequence token）连接起来，形成模型的输入\n",
    "    input_ids = context_ids + target_ids + [config.eos_token_id]\n",
    "    \n",
    "    # 返回一个字典，包含以下三个键值对\n",
    "    return {\"input_ids\": input_ids, \"context_len\": len(context_ids), 'target_len': len(target_ids)}"
   ]
  },
  {
   "cell_type": "markdown",
   "metadata": {},
   "source": [
    "- 额外的处理过长的文本"
   ]
  },
  {
   "cell_type": "code",
   "execution_count": 13,
   "metadata": {},
   "outputs": [
    {
     "name": "stderr",
     "output_type": "stream",
     "text": [
      "Map: 100%|██████████| 32/32 [00:00<00:00, 896.93 examples/s]\n",
      "Filter: 100%|██████████| 32/32 [00:00<00:00, 4416.22 examples/s]\n",
      "Map: 100%|██████████| 610/610 [00:00<00:00, 2705.20 examples/s]\n",
      "Filter: 100%|██████████| 610/610 [00:00<00:00, 41197.43 examples/s]\n"
     ]
    }
   ],
   "source": [
    "# 使用preprocess函数对ds_train数据集进行映射操作，生成新的数据集ds_train_token\n",
    "ds_train_token = ds_train.map(preprocess).select_columns(['input_ids', 'context_len','target_len'])\n",
    "# 如果skip_over_length为True，过滤掉长度超过max_seq_length的样本\n",
    "if skip_over_length:\n",
    "    ds_train_token = ds_train_token.filter(\n",
    "        lambda example: example[\"context_len\"] < max_seq_length and example[\"target_len\"] < max_seq_length)\n",
    "ds_val_token = ds_val.map(preprocess).select_columns(['input_ids', 'context_len','target_len'])\n",
    "# 如果skip_over_length为True，过滤掉长度超过max_seq_length的样本\n",
    "if skip_over_length:\n",
    "    ds_val_token = ds_val_token.filter(\n",
    "        lambda example: example[\"context_len\"] < max_seq_length and example[\"target_len\"] < max_seq_length)"
   ]
  },
  {
   "cell_type": "markdown",
   "metadata": {},
   "source": [
    "### 构建管道\n",
    "- 这基本都大差不差了\n",
    "- 其中的重点是这一句\n",
    "```\n",
    "    labels = (\n",
    "        [-100] * (context_len - 1) + ids[(context_len - 1) :] + [-100] * (longest - length)\n",
    "    ) #-100标志位后面会在计算loss时会被忽略不贡献损失，我们集中优化target部分生成的loss\n",
    "```\n",
    "- 显然我们只需要计算回答的loss，并不需要计算问题的loss\n",
    "- 这是只计算“好评”、“差评”的loss"
   ]
  },
  {
   "cell_type": "code",
   "execution_count": 14,
   "metadata": {},
   "outputs": [],
   "source": [
    "def data_collator(features: list):\n",
    "    len_ids = [len(feature[\"input_ids\"]) for feature in features]\n",
    "    longest = max(len_ids) #之后按照batch中最长的input_ids进行padding\n",
    "    \n",
    "    input_ids = []\n",
    "    labels_list = []\n",
    "    \n",
    "    for length, feature in sorted(zip(len_ids, features), key=lambda x: -x[0]):\n",
    "        ids = feature[\"input_ids\"]\n",
    "        context_len = feature[\"context_len\"]\n",
    "        \n",
    "        labels = (\n",
    "            [-100] * (context_len - 1) + ids[(context_len - 1) :] + [-100] * (longest - length)\n",
    "        ) #-100标志位后面会在计算loss时会被忽略不贡献损失，我们集中优化target部分生成的loss\n",
    "        \n",
    "        ids = ids + [tokenizer.pad_token_id] * (longest - length)\n",
    "        \n",
    "        input_ids.append(torch.LongTensor(ids))\n",
    "        labels_list.append(torch.LongTensor(labels))\n",
    "        \n",
    "        \n",
    "    input_ids = torch.stack(input_ids)\n",
    "    labels = torch.stack(labels_list)\n",
    "    return {\n",
    "        \"input_ids\": input_ids,\n",
    "        \"labels\": labels,\n",
    "    }"
   ]
  },
  {
   "cell_type": "markdown",
   "metadata": {},
   "source": [
    "### 构建dataloader"
   ]
  },
  {
   "cell_type": "code",
   "execution_count": 15,
   "metadata": {},
   "outputs": [],
   "source": [
    "from torch.utils.data import Dataset \n",
    "dl_train = torch.utils.data.DataLoader(ds_train_token,num_workers=2,batch_size=4,\n",
    "                                       pin_memory=True,shuffle=True,\n",
    "                                       collate_fn = data_collator)\n",
    "dl_val = torch.utils.data.DataLoader(ds_val_token,num_workers=2,batch_size=4,\n",
    "                                    pin_memory=True,shuffle=True,\n",
    "                                     collate_fn = data_collator)\n",
    "# dl_train.size = 300 #每300个step视作一个epoch，做一次验证"
   ]
  },
  {
   "cell_type": "markdown",
   "metadata": {},
   "source": [
    "### 看一下训练前的效果"
   ]
  },
  {
   "cell_type": "code",
   "execution_count": 16,
   "metadata": {},
   "outputs": [
    {
     "name": "stderr",
     "output_type": "stream",
     "text": [
      "100%|██████████| 610/610 [02:49<00:00,  3.61it/s]"
     ]
    },
    {
     "name": "stdout",
     "output_type": "stream",
     "text": [
      "0.8721311475409836\n"
     ]
    },
    {
     "name": "stderr",
     "output_type": "stream",
     "text": [
      "\n"
     ]
    }
   ],
   "source": [
    "preds = ['' for x in test['label']]\n",
    "def predict(text):\n",
    "    response, history = model.chat(tokenizer, f\"{text} -> \", history=his,\n",
    "    temperature=0.01)\n",
    "    return response \n",
    "\n",
    "from tqdm import tqdm \n",
    "\n",
    "for i in tqdm(range(len(test['label']))):\n",
    "    text = test['text'][i]\n",
    "    preds[i] = predict(text)\n",
    "\n",
    "count = 0\n",
    "for i,j in zip(preds,test['label']):\n",
    "    if i == j:\n",
    "        count+=1\n",
    "print(count/len(test['label']))"
   ]
  },
  {
   "cell_type": "markdown",
   "metadata": {},
   "source": [
    "### 这段代码的作用是将模型变成lora模型并进行训练\n",
    "- lora就是将模型冻住，并使用旁路的小神经网络进行训练，权重＝原权重 + 小网络权重\n",
    "- https://zhuanlan.zhihu.com/p/646791309\n",
    "- 使用peft包对模型进行lora化，将可训练参数的数量降到原模型的0.03%\n",
    "- - ps:参数都是默认的，基本不用调"
   ]
  },
  {
   "cell_type": "code",
   "execution_count": 16,
   "metadata": {},
   "outputs": [
    {
     "name": "stdout",
     "output_type": "stream",
     "text": [
      "trainable params: 1,949,696 || all params: 6,245,533,696 || trainable%: 0.031217444255383614\n"
     ]
    }
   ],
   "source": [
    "import warnings\n",
    "warnings.filterwarnings(\"ignore\")\n",
    "from transformers import AutoTokenizer, AutoModel, TrainingArguments, AutoConfig\n",
    "import torch\n",
    "import torch.nn as nn\n",
    "from peft import get_peft_model, LoraConfig, TaskType\n",
    "\n",
    "model.supports_gradient_checkpointing = True  #节约cuda\n",
    "model.gradient_checkpointing_enable()\n",
    "model.enable_input_require_grads()\n",
    "#model.lm_head = CastOutputToFloat(model.lm_head)\n",
    "\n",
    "model.config.use_cache = False  # silence the warnings. Please re-enable for inference!\n",
    "\n",
    "\n",
    "peft_config = LoraConfig(\n",
    "    task_type=TaskType.CAUSAL_LM, inference_mode=False,\n",
    "    r=8,\n",
    "    lora_alpha=32, lora_dropout=0.1,\n",
    ")\n",
    "\n",
    "model = get_peft_model(model, peft_config)\n",
    "model.is_parallelizable = True\n",
    "model.model_parallel = True\n",
    "model.print_trainable_parameters()"
   ]
  },
  {
   "cell_type": "markdown",
   "metadata": {},
   "source": [
    "### 构建使用过程中一步的函数"
   ]
  },
  {
   "cell_type": "code",
   "execution_count": 18,
   "metadata": {},
   "outputs": [],
   "source": [
    "from torchkeras import KerasModel \n",
    "from accelerate import Accelerator \n",
    "\n",
    "class StepRunner:\n",
    "    def __init__(self, net, loss_fn, accelerator=None, stage = \"train\", metrics_dict = None, \n",
    "                 optimizer = None, lr_scheduler = None\n",
    "                 ):\n",
    "        self.net,self.loss_fn,self.metrics_dict,self.stage = net,loss_fn,metrics_dict,stage\n",
    "        self.optimizer,self.lr_scheduler = optimizer,lr_scheduler\n",
    "\n",
    "        self.accelerator = accelerator if accelerator is not None else Accelerator() \n",
    "        if self.stage=='train':\n",
    "            self.net.train() \n",
    "        else:\n",
    "            self.net.eval()\n",
    "    \n",
    "    def __call__(self, batch):\n",
    "        \n",
    "        #loss\n",
    "        with self.accelerator.autocast():\n",
    "            loss = self.net(input_ids=batch[\"input_ids\"],labels=batch[\"labels\"]).loss\n",
    "\n",
    "        #backward()\n",
    "        if self.optimizer is not None and self.stage==\"train\":\n",
    "            self.accelerator.backward(loss)\n",
    "            if self.accelerator.sync_gradients:\n",
    "                self.accelerator.clip_grad_norm_(self.net.parameters(), 1.0)\n",
    "            self.optimizer.step()\n",
    "            if self.lr_scheduler is not None:\n",
    "                self.lr_scheduler.step()\n",
    "            self.optimizer.zero_grad()\n",
    "            \n",
    "        all_loss = self.accelerator.gather(loss).sum()\n",
    "        \n",
    "        #losses (or plain metrics that can be averaged)\n",
    "        step_losses = {self.stage+\"_loss\":all_loss.item()}\n",
    "        \n",
    "        #metrics (stateful metrics)\n",
    "        step_metrics = {}\n",
    "        \n",
    "        if self.stage==\"train\":\n",
    "            if self.optimizer is not None:\n",
    "                step_metrics['lr'] = self.optimizer.state_dict()['param_groups'][0]['lr']\n",
    "            else:\n",
    "                step_metrics['lr'] = 0.0\n",
    "        return step_losses,step_metrics\n",
    "    \n",
    "KerasModel.StepRunner = StepRunner "
   ]
  },
  {
   "cell_type": "code",
   "execution_count": 19,
   "metadata": {},
   "outputs": [
    {
     "name": "stdout",
     "output_type": "stream",
     "text": [
      "\u001b[0;31m<<<<<< ⚡️ cuda is used >>>>>>\u001b[0m\n"
     ]
    },
    {
     "data": {
      "image/png": "[encoded data removed]",
      "text/plain": [
       "<Figure size 600x400 with 1 Axes>"
      ]
     },
     "metadata": {},
     "output_type": "display_data"
    },
    {
     "data": {
      "text/html": [
       "\n",
       "<style>\n",
       "    /* background: */\n",
       "    progress::-webkit-progress-bar {background-color: #CDCDCD; width: 100%;}\n",
       "    progress {background-color: #CDCDCD;}\n",
       "\n",
       "    /* value: */\n",
       "    progress::-webkit-progress-value {background-color: #00BFFF  !important;}\n",
       "    progress::-moz-progress-bar {background-color: #00BFFF  !important;}\n",
       "    progress {color: #00BFFF ;}\n",
       "\n",
       "    /* optional */\n",
       "    .progress-bar-interrupted, .progress-bar-interrupted::-webkit-progress-bar {\n",
       "        background: #000000;\n",
       "    }\n",
       "</style>\n"
      ],
      "text/plain": [
       "<IPython.core.display.HTML object>"
      ]
     },
     "metadata": {},
     "output_type": "display_data"
    },
    {
     "data": {
      "text/html": [
       "\n",
       "    <div>\n",
       "      <progress value='199' class='progress-bar-interrupted' max='300' style='width:300px; height:20px; vertical-align: middle;'></progress>\n",
       "      66.33% [199/300] [49:34<25:09]\n",
       "      <br>\n",
       "      ████████████████████100.00% [149/149] [val_loss=1.9690]\n",
       "    </div>\n",
       "    "
      ],
      "text/plain": [
       "<IPython.core.display.HTML object>"
      ]
     },
     "metadata": {},
     "output_type": "display_data"
    },
    {
     "name": "stdout",
     "output_type": "stream",
     "text": [
      "\u001b[0;31m<<<<<< val_loss without improvement in 5 epoch,early stopping >>>>>> \n",
      "\u001b[0m\n"
     ]
    },
    {
     "data": {
      "text/html": [
       "<div>\n",
       "<style scoped>\n",
       "    .dataframe tbody tr th:only-of-type {\n",
       "        vertical-align: middle;\n",
       "    }\n",
       "\n",
       "    .dataframe tbody tr th {\n",
       "        vertical-align: top;\n",
       "    }\n",
       "\n",
       "    .dataframe thead th {\n",
       "        text-align: right;\n",
       "    }\n",
       "</style>\n",
       "<table border=\"1\" class=\"dataframe\">\n",
       "  <thead>\n",
       "    <tr style=\"text-align: right;\">\n",
       "      <th></th>\n",
       "      <th>epoch</th>\n",
       "      <th>train_loss</th>\n",
       "      <th>lr</th>\n",
       "      <th>val_loss</th>\n",
       "    </tr>\n",
       "  </thead>\n",
       "  <tbody>\n",
       "    <tr>\n",
       "      <th>0</th>\n",
       "      <td>1</td>\n",
       "      <td>5.382812</td>\n",
       "      <td>0.000002</td>\n",
       "      <td>5.286493</td>\n",
       "    </tr>\n",
       "    <tr>\n",
       "      <th>1</th>\n",
       "      <td>2</td>\n",
       "      <td>5.371094</td>\n",
       "      <td>0.000002</td>\n",
       "      <td>5.292051</td>\n",
       "    </tr>\n",
       "    <tr>\n",
       "      <th>2</th>\n",
       "      <td>3</td>\n",
       "      <td>5.371094</td>\n",
       "      <td>0.000002</td>\n",
       "      <td>5.270239</td>\n",
       "    </tr>\n",
       "    <tr>\n",
       "      <th>3</th>\n",
       "      <td>4</td>\n",
       "      <td>5.339844</td>\n",
       "      <td>0.000002</td>\n",
       "      <td>5.277685</td>\n",
       "    </tr>\n",
       "    <tr>\n",
       "      <th>4</th>\n",
       "      <td>5</td>\n",
       "      <td>5.347656</td>\n",
       "      <td>0.000002</td>\n",
       "      <td>5.262898</td>\n",
       "    </tr>\n",
       "    <tr>\n",
       "      <th>...</th>\n",
       "      <td>...</td>\n",
       "      <td>...</td>\n",
       "      <td>...</td>\n",
       "      <td>...</td>\n",
       "    </tr>\n",
       "    <tr>\n",
       "      <th>194</th>\n",
       "      <td>195</td>\n",
       "      <td>0.398315</td>\n",
       "      <td>0.000002</td>\n",
       "      <td>1.977323</td>\n",
       "    </tr>\n",
       "    <tr>\n",
       "      <th>195</th>\n",
       "      <td>196</td>\n",
       "      <td>0.387695</td>\n",
       "      <td>0.000002</td>\n",
       "      <td>1.975553</td>\n",
       "    </tr>\n",
       "    <tr>\n",
       "      <th>196</th>\n",
       "      <td>197</td>\n",
       "      <td>0.374084</td>\n",
       "      <td>0.000002</td>\n",
       "      <td>1.982461</td>\n",
       "    </tr>\n",
       "    <tr>\n",
       "      <th>197</th>\n",
       "      <td>198</td>\n",
       "      <td>0.376282</td>\n",
       "      <td>0.000002</td>\n",
       "      <td>1.970847</td>\n",
       "    </tr>\n",
       "    <tr>\n",
       "      <th>198</th>\n",
       "      <td>199</td>\n",
       "      <td>0.358337</td>\n",
       "      <td>0.000002</td>\n",
       "      <td>1.969025</td>\n",
       "    </tr>\n",
       "  </tbody>\n",
       "</table>\n",
       "<p>199 rows × 4 columns</p>\n",
       "</div>"
      ],
      "text/plain": [
       "     epoch  train_loss        lr  val_loss\n",
       "0        1    5.382812  0.000002  5.286493\n",
       "1        2    5.371094  0.000002  5.292051\n",
       "2        3    5.371094  0.000002  5.270239\n",
       "3        4    5.339844  0.000002  5.277685\n",
       "4        5    5.347656  0.000002  5.262898\n",
       "..     ...         ...       ...       ...\n",
       "194    195    0.398315  0.000002  1.977323\n",
       "195    196    0.387695  0.000002  1.975553\n",
       "196    197    0.374084  0.000002  1.982461\n",
       "197    198    0.376282  0.000002  1.970847\n",
       "198    199    0.358337  0.000002  1.969025\n",
       "\n",
       "[199 rows x 4 columns]"
      ]
     },
     "execution_count": 19,
     "metadata": {},
     "output_type": "execute_result"
    }
   ],
   "source": [
    "#仅仅保存lora可训练参数\n",
    "def save_ckpt(self, ckpt_path='checkpoint.pt', accelerator = None):\n",
    "    unwrap_net = accelerator.unwrap_model(self.net)\n",
    "    unwrap_net.save_pretrained(ckpt_path)\n",
    "    \n",
    "def load_ckpt(self, ckpt_path='checkpoint.pt'):\n",
    "    self.net = self.net.from_pretrained(self.net,ckpt_path)\n",
    "    self.from_scratch = False\n",
    "    \n",
    "KerasModel.save_ckpt = save_ckpt \n",
    "KerasModel.load_ckpt = load_ckpt \n",
    "\n",
    "\n",
    "keras_model = KerasModel(model,loss_fn = None,\n",
    "        optimizer=torch.optim.AdamW(model.parameters(),lr=2e-6))\n",
    "ckpt_path = DATASET\n",
    "\n",
    "\n",
    "keras_model.fit(train_data = dl_train,\n",
    "                val_data = dl_val,\n",
    "                epochs=300,patience=5,\n",
    "                monitor='val_loss',mode='min',\n",
    "                ckpt_path = ckpt_path,\n",
    "                #mixed_precision='fp16'\n",
    "               )"
   ]
  },
  {
   "cell_type": "code",
   "execution_count": 17,
   "metadata": {},
   "outputs": [
    {
     "name": "stderr",
     "output_type": "stream",
     "text": [
      "Loading checkpoint shards: 100%|██████████| 7/7 [00:09<00:00,  1.38s/it]\n"
     ]
    }
   ],
   "source": [
    "from peft import PeftModel\n",
    "from transformers import  AutoModel,AutoTokenizer\n",
    "DEVICE = 'cuda:3'\n",
    "DATASET = 'eprstmt'\n",
    "model_path = '../models/chatglm2/'\n",
    "path_to_data = '/workspace/ChatGLM2_test/data/demo1'\n",
    "ckpt_path = DATASET\n",
    "model = AutoModel.from_pretrained(model_path,\n",
    "                                  load_in_8bit=False,\n",
    "                                  trust_remote_code=True).cuda(DEVICE)\n",
    "model = PeftModel.from_pretrained(model,ckpt_path)\n",
    "model = model.merge_and_unload() #合并lora权重"
   ]
  },
  {
   "cell_type": "code",
   "execution_count": 18,
   "metadata": {},
   "outputs": [
    {
     "data": {
      "text/plain": [
       "'好评'"
      ]
     },
     "execution_count": 18,
     "metadata": {},
     "output_type": "execute_result"
    }
   ],
   "source": [
    "def predict(text):\n",
    "    response, history = model.chat(tokenizer, f\"{text} -> \", history=his,\n",
    "    temperature=0.01)\n",
    "    return response \n",
    "predict('好用')"
   ]
  },
  {
   "cell_type": "code",
   "execution_count": 19,
   "metadata": {},
   "outputs": [
    {
     "data": {
      "text/plain": [
       "610"
      ]
     },
     "execution_count": 19,
     "metadata": {},
     "output_type": "execute_result"
    }
   ],
   "source": [
    "len(test['label'])"
   ]
  },
  {
   "cell_type": "code",
   "execution_count": 20,
   "metadata": {},
   "outputs": [
    {
     "name": "stderr",
     "output_type": "stream",
     "text": [
      "100%|██████████| 610/610 [01:55<00:00,  5.28it/s]\n"
     ]
    }
   ],
   "source": [
    "preds = ['' for x in test['label']]\n",
    "\n",
    "from tqdm import tqdm \n",
    "for i in tqdm(range(len(test['label']))):\n",
    "    text = test['text'][i]\n",
    "    preds[i] = predict(text)"
   ]
  },
  {
   "cell_type": "code",
   "execution_count": 21,
   "metadata": {},
   "outputs": [
    {
     "data": {
      "text/plain": [
       "Counter({'差评': 350, '好评': 258, '中规中矩': 1, '中肯好评': 1})"
      ]
     },
     "execution_count": 21,
     "metadata": {},
     "output_type": "execute_result"
    }
   ],
   "source": [
    "Counter(preds)"
   ]
  },
  {
   "cell_type": "code",
   "execution_count": 22,
   "metadata": {},
   "outputs": [
    {
     "name": "stdout",
     "output_type": "stream",
     "text": [
      "0.8885245901639345\n"
     ]
    }
   ],
   "source": [
    "count = 0\n",
    "for i,j in zip(preds,test['label']):\n",
    "    if i == j:\n",
    "        count+=1\n",
    "print(count/len(test['label']))"
   ]
  },
  {
   "cell_type": "code",
   "execution_count": 23,
   "metadata": {},
   "outputs": [
    {
     "ename": "",
     "evalue": "",
     "output_type": "error",
     "traceback": [
      "\u001b[1;31m在当前单元格或上一个单元格中执行代码时 Kernel 崩溃。请查看单元格中的代码，以确定故障的可能原因。有关详细信息，请单击 <a href='https://aka.ms/vscodeJupyterKernelCrash'>此处</a>。有关更多详细信息，请查看 Jupyter <a href='command:jupyter.viewOutput'>log</a>。"
     ]
    }
   ],
   "source": [
    "# 0.9"
   ]
  },
  {
   "cell_type": "code",
   "execution_count": null,
   "metadata": {},
   "outputs": [],
   "source": []
  }
 ],
 "metadata": {
  "kernelspec": {
   "display_name": "test_cuda",
   "language": "python",
   "name": "python3"
  },
  "language_info": {
   "codemirror_mode": {
    "name": "ipython",
    "version": 3
   },
   "file_extension": ".py",
   "mimetype": "text/x-python",
   "name": "python",
   "nbconvert_exporter": "python",
   "pygments_lexer": "ipython3",
   "version": "3.10.6"
  },
  "orig_nbformat": 4
 },
 "nbformat": 4,
 "nbformat_minor": 2
}
